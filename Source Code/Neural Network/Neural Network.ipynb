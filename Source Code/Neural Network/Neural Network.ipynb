{
 "cells": [
  {
   "cell_type": "code",
   "execution_count": 1,
   "metadata": {},
   "outputs": [],
   "source": [
    "#importing the libaries needed for analysis\n",
    "import pandas as pd\n",
    "import matplotlib.pyplot as plt\n",
    "import numpy as np\n",
    "\n",
    "\n",
    "import sklearn as sk\n",
    "from sklearn.model_selection import train_test_split\n",
    "from sklearn.neural_network import MLPClassifier\n",
    "from sklearn.metrics import classification_report,confusion_matrix\n"
   ]
  },
  {
   "cell_type": "code",
   "execution_count": 24,
   "metadata": {},
   "outputs": [],
   "source": [
    "#importing data document\n",
    "AusWeather=pd.read_csv('data/cleaned_data.csv')\n",
    "AusWeather=AusWeather.drop(columns=[\"Unnamed: 0\"])"
   ]
  },
  {
   "cell_type": "markdown",
   "metadata": {},
   "source": [
    "# Testing base values"
   ]
  },
  {
   "cell_type": "code",
   "execution_count": 27,
   "metadata": {},
   "outputs": [],
   "source": [
    "TempDF=AusWeather.copy()\n",
    "\n",
    "TempDF=TempDF.replace(['N','NNE','NE','ENE','E','ESE','SE','SSE','S','SSW','SW','WSW','W','WNW','NW','NNW'],\n",
    "                                [0,22.5,45,67.5,90,112.5,135,157.5,180,202.5,225,247.5,270,292.5,315,337.5])\n",
    "TempDF['RainToday']=TempDF['RainToday'].replace(['No','Yes'],[0,1])\n",
    "\n",
    "y =TempDF['RainTomorrow']\n",
    "x =TempDF.drop(columns=['RainTomorrow','Location','Date', 'RISK_MM'])\n",
    "\n",
    "x_train, x_test, y_train, y_test = train_test_split(x, y)"
   ]
  },
  {
   "cell_type": "code",
   "execution_count": 4,
   "metadata": {},
   "outputs": [
    {
     "name": "stdout",
     "output_type": "stream",
     "text": [
      "              precision    recall  f1-score   support\n",
      "\n",
      "          No       0.87      0.94      0.90     27524\n",
      "         Yes       0.72      0.51      0.60      8025\n",
      "\n",
      "    accuracy                           0.85     35549\n",
      "   macro avg       0.80      0.73      0.75     35549\n",
      "weighted avg       0.84      0.85      0.83     35549\n",
      "\n"
     ]
    }
   ],
   "source": [
    "mlp=MLPClassifier(hidden_layer_sizes=(30,30,30))\n",
    "mlp.fit(x_train,y_train)\n",
    "predicitons=mlp.predict(x_test)\n",
    "print(classification_report(y_test,predicitons))"
   ]
  },
  {
   "cell_type": "code",
   "execution_count": 5,
   "metadata": {},
   "outputs": [
    {
     "name": "stdout",
     "output_type": "stream",
     "text": [
      "              precision    recall  f1-score   support\n",
      "\n",
      "          No       0.87      0.94      0.90     27524\n",
      "         Yes       0.72      0.52      0.60      8025\n",
      "\n",
      "    accuracy                           0.85     35549\n",
      "   macro avg       0.79      0.73      0.75     35549\n",
      "weighted avg       0.84      0.85      0.84     35549\n",
      "\n"
     ]
    }
   ],
   "source": [
    "mlp=MLPClassifier(hidden_layer_sizes=(30,30,30,30))\n",
    "mlp.fit(x_train,y_train)\n",
    "predicitons=mlp.predict(x_test)\n",
    "print(classification_report(y_test,predicitons))"
   ]
  },
  {
   "cell_type": "code",
   "execution_count": 6,
   "metadata": {},
   "outputs": [
    {
     "name": "stdout",
     "output_type": "stream",
     "text": [
      "              precision    recall  f1-score   support\n",
      "\n",
      "          No       0.87      0.94      0.90     27524\n",
      "         Yes       0.72      0.50      0.59      8025\n",
      "\n",
      "    accuracy                           0.84     35549\n",
      "   macro avg       0.79      0.72      0.75     35549\n",
      "weighted avg       0.83      0.84      0.83     35549\n",
      "\n"
     ]
    }
   ],
   "source": [
    "mlp=MLPClassifier(hidden_layer_sizes=(30,30,30,30,30))\n",
    "mlp.fit(x_train,y_train)\n",
    "predicitons=mlp.predict(x_test)\n",
    "print(classification_report(y_test,predicitons))"
   ]
  },
  {
   "cell_type": "code",
   "execution_count": 7,
   "metadata": {
    "scrolled": true
   },
   "outputs": [
    {
     "name": "stdout",
     "output_type": "stream",
     "text": [
      "              precision    recall  f1-score   support\n",
      "\n",
      "          No       0.86      0.95      0.90     27524\n",
      "         Yes       0.74      0.46      0.57      8025\n",
      "\n",
      "    accuracy                           0.84     35549\n",
      "   macro avg       0.80      0.71      0.74     35549\n",
      "weighted avg       0.83      0.84      0.83     35549\n",
      "\n"
     ]
    }
   ],
   "source": [
    "mlp=MLPClassifier(hidden_layer_sizes=(100,100,100,100,100))\n",
    "mlp.fit(x_train,y_train)\n",
    "predicitons=mlp.predict(x_test)\n",
    "print(classification_report(y_test,predicitons))"
   ]
  },
  {
   "cell_type": "markdown",
   "metadata": {},
   "source": [
    "Base(contains wind direction, no risk mm)"
   ]
  },
  {
   "cell_type": "markdown",
   "metadata": {},
   "source": [
    "# Adding testing without wind direction"
   ]
  },
  {
   "cell_type": "code",
   "execution_count": 8,
   "metadata": {},
   "outputs": [
    {
     "data": {
      "text/plain": [
       "Index(['Date', 'Location', 'MinTemp', 'MaxTemp', 'Rainfall', 'WindGustDir',\n",
       "       'WindGustSpeed', 'WindDir9am', 'WindDir3pm', 'WindSpeed9am',\n",
       "       'WindSpeed3pm', 'Humidity9am', 'Humidity3pm', 'Pressure9am',\n",
       "       'Pressure3pm', 'Temp9am', 'Temp3pm', 'RainToday', 'RISK_MM',\n",
       "       'RainTomorrow'],\n",
       "      dtype='object')"
      ]
     },
     "execution_count": 8,
     "metadata": {},
     "output_type": "execute_result"
    }
   ],
   "source": [
    "AusWeather.columns"
   ]
  },
  {
   "cell_type": "code",
   "execution_count": 9,
   "metadata": {},
   "outputs": [],
   "source": [
    "TempDF=AusWeather.copy()\n",
    "\n",
    "TempDF['RainToday']=TempDF['RainToday'].replace(['No','Yes'],[0,1])\n",
    "\n",
    "y =TempDF['RainTomorrow']\n",
    "x =TempDF.drop(columns=['RainTomorrow','Location','Date', 'RISK_MM','WindGustDir', 'WindDir9am', 'WindDir3pm'])\n",
    "\n",
    "x_train, x_test, y_train, y_test = train_test_split(x, y)"
   ]
  },
  {
   "cell_type": "code",
   "execution_count": 10,
   "metadata": {},
   "outputs": [
    {
     "name": "stdout",
     "output_type": "stream",
     "text": [
      "              precision    recall  f1-score   support\n",
      "\n",
      "          No       0.86      0.95      0.90     27651\n",
      "         Yes       0.72      0.45      0.56      7898\n",
      "\n",
      "    accuracy                           0.84     35549\n",
      "   macro avg       0.79      0.70      0.73     35549\n",
      "weighted avg       0.83      0.84      0.83     35549\n",
      "\n"
     ]
    }
   ],
   "source": [
    "mlp=MLPClassifier(hidden_layer_sizes=(30,30,30))\n",
    "mlp.fit(x_train,y_train)\n",
    "predicitons=mlp.predict(x_test)\n",
    "print(classification_report(y_test,predicitons))"
   ]
  },
  {
   "cell_type": "code",
   "execution_count": 11,
   "metadata": {},
   "outputs": [
    {
     "name": "stdout",
     "output_type": "stream",
     "text": [
      "              precision    recall  f1-score   support\n",
      "\n",
      "          No       0.87      0.94      0.90     27651\n",
      "         Yes       0.69      0.51      0.59      7898\n",
      "\n",
      "    accuracy                           0.84     35549\n",
      "   macro avg       0.78      0.72      0.75     35549\n",
      "weighted avg       0.83      0.84      0.83     35549\n",
      "\n"
     ]
    }
   ],
   "source": [
    "mlp=MLPClassifier(hidden_layer_sizes=(30,30,30,30))\n",
    "mlp.fit(x_train,y_train)\n",
    "predicitons=mlp.predict(x_test)\n",
    "print(classification_report(y_test,predicitons))"
   ]
  },
  {
   "cell_type": "code",
   "execution_count": 12,
   "metadata": {},
   "outputs": [
    {
     "name": "stdout",
     "output_type": "stream",
     "text": [
      "              precision    recall  f1-score   support\n",
      "\n",
      "          No       0.85      0.96      0.90     27651\n",
      "         Yes       0.76      0.42      0.54      7898\n",
      "\n",
      "    accuracy                           0.84     35549\n",
      "   macro avg       0.81      0.69      0.72     35549\n",
      "weighted avg       0.83      0.84      0.82     35549\n",
      "\n"
     ]
    }
   ],
   "source": [
    "mlp=MLPClassifier(hidden_layer_sizes=(30,30,30,30))\n",
    "mlp.fit(x_train,y_train)\n",
    "predicitons=mlp.predict(x_test)\n",
    "print(classification_report(y_test,predicitons))"
   ]
  },
  {
   "cell_type": "code",
   "execution_count": 13,
   "metadata": {},
   "outputs": [
    {
     "name": "stdout",
     "output_type": "stream",
     "text": [
      "              precision    recall  f1-score   support\n",
      "\n",
      "          No       0.87      0.94      0.90     27651\n",
      "         Yes       0.70      0.51      0.59      7898\n",
      "\n",
      "    accuracy                           0.84     35549\n",
      "   macro avg       0.79      0.72      0.75     35549\n",
      "weighted avg       0.83      0.84      0.83     35549\n",
      "\n"
     ]
    }
   ],
   "source": [
    "mlp=MLPClassifier(hidden_layer_sizes=(100,100,100,100,100))\n",
    "mlp.fit(x_train,y_train)\n",
    "predicitons=mlp.predict(x_test)\n",
    "print(classification_report(y_test,predicitons))"
   ]
  },
  {
   "cell_type": "markdown",
   "metadata": {},
   "source": [
    "Contains no wind direction or risk mm"
   ]
  },
  {
   "cell_type": "markdown",
   "metadata": {},
   "source": [
    "# adding riskmm"
   ]
  },
  {
   "cell_type": "code",
   "execution_count": 32,
   "metadata": {},
   "outputs": [],
   "source": [
    "TempDF=AusWeather.copy()\n",
    "\n",
    "TempDF=TempDF.replace(['N','NNE','NE','ENE','E','ESE','SE','SSE','S','SSW','SW','WSW','W','WNW','NW','NNW'],\n",
    "                                [0,22.5,45,67.5,90,112.5,135,157.5,180,202.5,225,247.5,270,292.5,315,337.5])\n",
    "TempDF['RainToday']=TempDF['RainToday'].replace(['Yes','No'],[1,0])\n",
    "\n",
    "y =TempDF['RainTomorrow']\n",
    "x =TempDF.drop(columns=['RainTomorrow','Location','Date'])\n",
    "\n",
    "x_train, x_test, y_train, y_test = train_test_split(x, y)\n"
   ]
  },
  {
   "cell_type": "code",
   "execution_count": 33,
   "metadata": {},
   "outputs": [
    {
     "name": "stdout",
     "output_type": "stream",
     "text": [
      "              precision    recall  f1-score   support\n",
      "\n",
      "          No       1.00      0.97      0.98     27606\n",
      "         Yes       0.90      1.00      0.95      7943\n",
      "\n",
      "    accuracy                           0.98     35549\n",
      "   macro avg       0.95      0.98      0.97     35549\n",
      "weighted avg       0.98      0.98      0.98     35549\n",
      "\n"
     ]
    }
   ],
   "source": [
    "mlp=MLPClassifier(hidden_layer_sizes=(30,30,30))\n",
    "mlp.fit(x_train,y_train)\n",
    "predicitons=mlp.predict(x_test)\n",
    "print(classification_report(y_test,predicitons))"
   ]
  },
  {
   "cell_type": "code",
   "execution_count": 34,
   "metadata": {},
   "outputs": [
    {
     "name": "stdout",
     "output_type": "stream",
     "text": [
      "              precision    recall  f1-score   support\n",
      "\n",
      "          No       0.99      1.00      0.99     27606\n",
      "         Yes       1.00      0.96      0.98      7943\n",
      "\n",
      "    accuracy                           0.99     35549\n",
      "   macro avg       0.99      0.98      0.99     35549\n",
      "weighted avg       0.99      0.99      0.99     35549\n",
      "\n"
     ]
    }
   ],
   "source": [
    "mlp=MLPClassifier(hidden_layer_sizes=(30,30,30,30))\n",
    "mlp.fit(x_train,y_train)\n",
    "predicitons=mlp.predict(x_test)\n",
    "print(classification_report(y_test,predicitons))"
   ]
  },
  {
   "cell_type": "code",
   "execution_count": 35,
   "metadata": {
    "scrolled": true
   },
   "outputs": [
    {
     "name": "stdout",
     "output_type": "stream",
     "text": [
      "              precision    recall  f1-score   support\n",
      "\n",
      "          No       1.00      1.00      1.00     27606\n",
      "         Yes       1.00      1.00      1.00      7943\n",
      "\n",
      "    accuracy                           1.00     35549\n",
      "   macro avg       1.00      1.00      1.00     35549\n",
      "weighted avg       1.00      1.00      1.00     35549\n",
      "\n"
     ]
    }
   ],
   "source": [
    "mlp=MLPClassifier(hidden_layer_sizes=(30,30,30,30,30))\n",
    "mlp.fit(x_train,y_train)\n",
    "predicitons=mlp.predict(x_test)\n",
    "print(classification_report(y_test,predicitons))"
   ]
  },
  {
   "cell_type": "code",
   "execution_count": 36,
   "metadata": {
    "scrolled": true
   },
   "outputs": [
    {
     "name": "stdout",
     "output_type": "stream",
     "text": [
      "              precision    recall  f1-score   support\n",
      "\n",
      "          No       1.00      1.00      1.00     27606\n",
      "         Yes       0.99      1.00      1.00      7943\n",
      "\n",
      "    accuracy                           1.00     35549\n",
      "   macro avg       1.00      1.00      1.00     35549\n",
      "weighted avg       1.00      1.00      1.00     35549\n",
      "\n"
     ]
    }
   ],
   "source": [
    "mlp=MLPClassifier(hidden_layer_sizes=(100,100,100,100,100))\n",
    "mlp.fit(x_train,y_train)\n",
    "predicitons=mlp.predict(x_test)\n",
    "print(classification_report(y_test,predicitons))"
   ]
  },
  {
   "cell_type": "markdown",
   "metadata": {},
   "source": [
    "Contains both wind direction and risk mm"
   ]
  }
 ],
 "metadata": {
  "kernelspec": {
   "display_name": "Python 3",
   "language": "python",
   "name": "python3"
  },
  "language_info": {
   "codemirror_mode": {
    "name": "ipython",
    "version": 3
   },
   "file_extension": ".py",
   "mimetype": "text/x-python",
   "name": "python",
   "nbconvert_exporter": "python",
   "pygments_lexer": "ipython3",
   "version": "3.7.3"
  }
 },
 "nbformat": 4,
 "nbformat_minor": 2
}
