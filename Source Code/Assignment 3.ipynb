{
 "cells": [
  {
   "cell_type": "code",
   "execution_count": 1,
   "metadata": {},
   "outputs": [],
   "source": [
    "#importing the libaries needed for analysis\n",
    "import pandas as pd\n",
    "import matplotlib.pyplot as plt\n",
    "import numpy as np\n",
    "\n",
    "\n",
    "import sklearn as sk\n",
    "from sklearn.model_selection import train_test_split\n",
    "from sklearn.neural_network import MLPClassifier\n",
    "from sklearn.metrics import classification_report,confusion_matrix\n"
   ]
  },
  {
   "cell_type": "code",
   "execution_count": 2,
   "metadata": {},
   "outputs": [],
   "source": [
    "#importing data document\n",
    "AusWeather=pd.read_csv('data/cleaned_data.csv')\n",
    "AusWeather=AusWeather.drop(columns=[\"Unnamed: 0\"])"
   ]
  },
  {
   "cell_type": "code",
   "execution_count": 3,
   "metadata": {},
   "outputs": [],
   "source": [
    "TempDF=AusWeather\n",
    "\n",
    "TempDF=TempDF.replace(['N','NNE','NE','ENE','E','ESE','SE','SSE','S','SSW','SW','WSW','W','WNW','NW','NNW'],\n",
    "                                [0,22.5,45,67.5,90,112.5,135,157.5,180,202.5,225,247.5,270,292.5,315,337.5])\n",
    "TempDF['RainToday']=TempDF['RainToday'].replace(['No','Yes'],[0,1])\n",
    "\n",
    "y =TempDF['RainTomorrow']\n",
    "x =TempDF.drop(columns=['RainTomorrow','Location','Date', 'RISK_MM'])\n",
    "\n",
    "x_train, x_test, y_train, y_test = train_test_split(x, y)"
   ]
  },
  {
   "cell_type": "code",
   "execution_count": 4,
   "metadata": {},
   "outputs": [
    {
     "name": "stdout",
     "output_type": "stream",
     "text": [
      "              precision    recall  f1-score   support\n",
      "\n",
      "          No       0.86      0.95      0.90     27558\n",
      "         Yes       0.73      0.49      0.59      7991\n",
      "\n",
      "    accuracy                           0.85     35549\n",
      "   macro avg       0.80      0.72      0.75     35549\n",
      "weighted avg       0.84      0.85      0.83     35549\n",
      "\n"
     ]
    }
   ],
   "source": [
    "mlp=MLPClassifier(hidden_layer_sizes=(30,30,30))\n",
    "mlp.fit(x_train,y_train)\n",
    "predicitons=mlp.predict(x_test)\n",
    "print(classification_report(y_test,predicitons))"
   ]
  },
  {
   "cell_type": "code",
   "execution_count": 6,
   "metadata": {},
   "outputs": [
    {
     "name": "stdout",
     "output_type": "stream",
     "text": [
      "              precision    recall  f1-score   support\n",
      "\n",
      "          No       0.87      0.95      0.90     27558\n",
      "         Yes       0.73      0.49      0.59      7991\n",
      "\n",
      "    accuracy                           0.84     35549\n",
      "   macro avg       0.80      0.72      0.75     35549\n",
      "weighted avg       0.83      0.84      0.83     35549\n",
      "\n"
     ]
    }
   ],
   "source": [
    "mlp=MLPClassifier(hidden_layer_sizes=(30,30,30,30))\n",
    "mlp.fit(x_train,y_train)\n",
    "predicitons=mlp.predict(x_test)\n",
    "print(classification_report(y_test,predicitons))"
   ]
  },
  {
   "cell_type": "code",
   "execution_count": 7,
   "metadata": {},
   "outputs": [
    {
     "name": "stdout",
     "output_type": "stream",
     "text": [
      "              precision    recall  f1-score   support\n",
      "\n",
      "          No       0.87      0.94      0.90     27558\n",
      "         Yes       0.70      0.52      0.59      7991\n",
      "\n",
      "    accuracy                           0.84     35549\n",
      "   macro avg       0.79      0.73      0.75     35549\n",
      "weighted avg       0.83      0.84      0.83     35549\n",
      "\n"
     ]
    }
   ],
   "source": [
    "mlp=MLPClassifier(hidden_layer_sizes=(30,30,30,30,30))\n",
    "mlp.fit(x_train,y_train)\n",
    "predicitons=mlp.predict(x_test)\n",
    "print(classification_report(y_test,predicitons))"
   ]
  },
  {
   "cell_type": "code",
   "execution_count": 8,
   "metadata": {},
   "outputs": [
    {
     "name": "stderr",
     "output_type": "stream",
     "text": [
      "C:\\Users\\User\\Anaconda3\\lib\\site-packages\\sklearn\\neural_network\\multilayer_perceptron.py:566: ConvergenceWarning: Stochastic Optimizer: Maximum iterations (200) reached and the optimization hasn't converged yet.\n",
      "  % self.max_iter, ConvergenceWarning)\n"
     ]
    },
    {
     "name": "stdout",
     "output_type": "stream",
     "text": [
      "              precision    recall  f1-score   support\n",
      "\n",
      "          No       0.86      0.95      0.90     27558\n",
      "         Yes       0.74      0.45      0.56      7991\n",
      "\n",
      "    accuracy                           0.84     35549\n",
      "   macro avg       0.80      0.70      0.73     35549\n",
      "weighted avg       0.83      0.84      0.82     35549\n",
      "\n"
     ]
    }
   ],
   "source": [
    "mlp=MLPClassifier(hidden_layer_sizes=(100,100,100,100,100))\n",
    "mlp.fit(x_train,y_train)\n",
    "predicitons=mlp.predict(x_test)\n",
    "print(classification_report(y_test,predicitons))"
   ]
  },
  {
   "cell_type": "code",
   "execution_count": null,
   "metadata": {},
   "outputs": [],
   "source": []
  }
 ],
 "metadata": {
  "kernelspec": {
   "display_name": "Python 3",
   "language": "python",
   "name": "python3"
  },
  "language_info": {
   "codemirror_mode": {
    "name": "ipython",
    "version": 3
   },
   "file_extension": ".py",
   "mimetype": "text/x-python",
   "name": "python",
   "nbconvert_exporter": "python",
   "pygments_lexer": "ipython3",
   "version": "3.7.3"
  }
 },
 "nbformat": 4,
 "nbformat_minor": 2
}
